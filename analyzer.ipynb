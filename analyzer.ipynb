{
 "cells": [
  {
   "cell_type": "markdown",
   "metadata": {},
   "source": [
    "# Ceneo Analyzer"
   ]
  },
  {
   "cell_type": "markdown",
   "metadata": {},
   "source": [
    "## Biblioteki"
   ]
  },
  {
   "cell_type": "code",
   "execution_count": 2,
   "metadata": {},
   "outputs": [],
   "source": [
    "import os\n",
    "import pandas as pd"
   ]
  },
  {
   "cell_type": "markdown",
   "metadata": {},
   "source": [
    "## Lista kodów produktów o których zostały pobrane opinie"
   ]
  },
  {
   "cell_type": "code",
   "execution_count": 3,
   "metadata": {},
   "outputs": [
    {
     "name": "stdout",
     "output_type": "stream",
     "text": [
      "114700014\n"
     ]
    }
   ],
   "source": [
    "print(*[filename.split(\".\")[0] for filename in os.listdir(\"opinions\")], sep=\"\\n\")"
   ]
  },
  {
   "cell_type": "markdown",
   "metadata": {},
   "source": [
    "## Kod produktu, którego opinie mają zostać przeanalizowane"
   ]
  },
  {
   "cell_type": "code",
   "execution_count": 4,
   "metadata": {},
   "outputs": [],
   "source": [
    "product_id = input(\"Proszę podać kod produktu z serwisu Ceneo.pl: \")"
   ]
  },
  {
   "cell_type": "markdown",
   "metadata": {},
   "source": [
    "## Wczytanie do obiektu pandas. DataFrame opinii o wskazanym produkcie"
   ]
  },
  {
   "cell_type": "code",
   "execution_count": 5,
   "metadata": {},
   "outputs": [],
   "source": [
    "opinions = pd.read_json(f\"opinions/{product_id}.json\")"
   ]
  },
  {
   "cell_type": "code",
   "execution_count": 6,
   "metadata": {},
   "outputs": [
    {
     "data": {
      "text/html": [
       "<div>\n",
       "<style scoped>\n",
       "    .dataframe tbody tr th:only-of-type {\n",
       "        vertical-align: middle;\n",
       "    }\n",
       "\n",
       "    .dataframe tbody tr th {\n",
       "        vertical-align: top;\n",
       "    }\n",
       "\n",
       "    .dataframe thead th {\n",
       "        text-align: right;\n",
       "    }\n",
       "</style>\n",
       "<table border=\"1\" class=\"dataframe\">\n",
       "  <thead>\n",
       "    <tr style=\"text-align: right;\">\n",
       "      <th></th>\n",
       "      <th>opinion_id</th>\n",
       "      <th>author</th>\n",
       "      <th>recommendation</th>\n",
       "      <th>rating</th>\n",
       "      <th>content</th>\n",
       "      <th>pros</th>\n",
       "      <th>cons</th>\n",
       "      <th>useful</th>\n",
       "      <th>useless</th>\n",
       "      <th>post_date</th>\n",
       "      <th>purchase_date</th>\n",
       "    </tr>\n",
       "  </thead>\n",
       "  <tbody>\n",
       "    <tr>\n",
       "      <th>0</th>\n",
       "      <td>18536064</td>\n",
       "      <td>A...t</td>\n",
       "      <td>Polecam</td>\n",
       "      <td>5/5</td>\n",
       "      <td>Długo szukałam, sporo filmików na YT o ujrzała...</td>\n",
       "      <td>[]</td>\n",
       "      <td>[]</td>\n",
       "      <td>0</td>\n",
       "      <td>0</td>\n",
       "      <td>2024-03-29 11:14:23</td>\n",
       "      <td>2024-03-17 13:45:25</td>\n",
       "    </tr>\n",
       "    <tr>\n",
       "      <th>1</th>\n",
       "      <td>17516357</td>\n",
       "      <td>g...a</td>\n",
       "      <td>Polecam</td>\n",
       "      <td>5/5</td>\n",
       "      <td>Fantastyczny sprzęt, bardzo mocny, lekki i odp...</td>\n",
       "      <td>[dużo końcówek, poręczny, przycisk zasilania, ...</td>\n",
       "      <td>[]</td>\n",
       "      <td>0</td>\n",
       "      <td>2</td>\n",
       "      <td>2023-05-17 10:52:54</td>\n",
       "      <td>2023-05-12 09:57:19</td>\n",
       "    </tr>\n",
       "    <tr>\n",
       "      <th>2</th>\n",
       "      <td>18499460</td>\n",
       "      <td>j...k</td>\n",
       "      <td>Polecam</td>\n",
       "      <td>4/5</td>\n",
       "      <td>Odkurzacz spełnia wymagania</td>\n",
       "      <td>[dużo końcówek, poręczny, przycisk zasilania, ...</td>\n",
       "      <td>[]</td>\n",
       "      <td>1</td>\n",
       "      <td>0</td>\n",
       "      <td>2024-03-18 08:42:26</td>\n",
       "      <td>2024-03-10 15:49:13</td>\n",
       "    </tr>\n",
       "    <tr>\n",
       "      <th>3</th>\n",
       "      <td>18457506</td>\n",
       "      <td>n...2</td>\n",
       "      <td>Polecam</td>\n",
       "      <td>5/5</td>\n",
       "      <td>Produkt super</td>\n",
       "      <td>[dużo końcówek, lekki, poręczny, przycisk zasi...</td>\n",
       "      <td>[]</td>\n",
       "      <td>0</td>\n",
       "      <td>0</td>\n",
       "      <td>2024-03-04 08:34:36</td>\n",
       "      <td>2024-02-17 16:31:32</td>\n",
       "    </tr>\n",
       "    <tr>\n",
       "      <th>4</th>\n",
       "      <td>16459243</td>\n",
       "      <td>l...i</td>\n",
       "      <td>Polecam</td>\n",
       "      <td>5/5</td>\n",
       "      <td>Mam w domu psa który zrzuca non stop dużo sier...</td>\n",
       "      <td>[dużo końcówek, poręczny, przycisk zasilania, ...</td>\n",
       "      <td>[]</td>\n",
       "      <td>2</td>\n",
       "      <td>0</td>\n",
       "      <td>2022-08-26 11:17:23</td>\n",
       "      <td>2022-08-21 20:00:27</td>\n",
       "    </tr>\n",
       "    <tr>\n",
       "      <th>5</th>\n",
       "      <td>18218718</td>\n",
       "      <td>suhcik</td>\n",
       "      <td>Polecam</td>\n",
       "      <td>5/5</td>\n",
       "      <td>Jak na razie sprawuje się bardzo dobrze. Przed...</td>\n",
       "      <td>[dużo końcówek, lekki, poręczny, przycisk zasi...</td>\n",
       "      <td>[]</td>\n",
       "      <td>0</td>\n",
       "      <td>0</td>\n",
       "      <td>2023-12-18 07:42:27</td>\n",
       "      <td>2023-12-14 08:10:55</td>\n",
       "    </tr>\n",
       "    <tr>\n",
       "      <th>6</th>\n",
       "      <td>17477082</td>\n",
       "      <td>robaczekmax</td>\n",
       "      <td>Polecam</td>\n",
       "      <td>4/5</td>\n",
       "      <td>Jak na razie, spełnia swoją funkcję, jestem za...</td>\n",
       "      <td>[]</td>\n",
       "      <td>[]</td>\n",
       "      <td>0</td>\n",
       "      <td>1</td>\n",
       "      <td>2023-05-05 12:46:13</td>\n",
       "      <td>2023-04-23 15:51:18</td>\n",
       "    </tr>\n",
       "    <tr>\n",
       "      <th>7</th>\n",
       "      <td>18293902</td>\n",
       "      <td>p4n4c3um</td>\n",
       "      <td>Polecam</td>\n",
       "      <td>4/5</td>\n",
       "      <td>Daję 4 gdyż pierwsza bateria z odkurzaczem był...</td>\n",
       "      <td>[dużo końcówek, poręczny, przycisk zasilania]</td>\n",
       "      <td>[]</td>\n",
       "      <td>2</td>\n",
       "      <td>0</td>\n",
       "      <td>2024-01-11 12:08:55</td>\n",
       "      <td>2023-12-26 20:24:39</td>\n",
       "    </tr>\n",
       "    <tr>\n",
       "      <th>8</th>\n",
       "      <td>18304244</td>\n",
       "      <td>b...n</td>\n",
       "      <td>Polecam</td>\n",
       "      <td>5/5</td>\n",
       "      <td>Odmienił moje życie :P Jeśli myślisz że masz c...</td>\n",
       "      <td>[brak, dużo końcówek, lekki, poręczny, przycis...</td>\n",
       "      <td>[]</td>\n",
       "      <td>0</td>\n",
       "      <td>0</td>\n",
       "      <td>2024-01-15 18:15:58</td>\n",
       "      <td>2023-12-30 22:59:39</td>\n",
       "    </tr>\n",
       "    <tr>\n",
       "      <th>9</th>\n",
       "      <td>18269592</td>\n",
       "      <td>b...o</td>\n",
       "      <td>Nie polecam</td>\n",
       "      <td>1/5</td>\n",
       "      <td>Fabrycznie produkt uszkodzony. Po rozpakowaniu...</td>\n",
       "      <td>[dużo końcówek, poręczny, przycisk zasilania, ...</td>\n",
       "      <td>[]</td>\n",
       "      <td>0</td>\n",
       "      <td>1</td>\n",
       "      <td>2024-01-03 18:28:39</td>\n",
       "      <td>2023-12-30 07:30:46</td>\n",
       "    </tr>\n",
       "  </tbody>\n",
       "</table>\n",
       "</div>"
      ],
      "text/plain": [
       "   opinion_id       author recommendation rating  \\\n",
       "0    18536064        A...t        Polecam    5/5   \n",
       "1    17516357        g...a        Polecam    5/5   \n",
       "2    18499460        j...k        Polecam    4/5   \n",
       "3    18457506        n...2        Polecam    5/5   \n",
       "4    16459243        l...i        Polecam    5/5   \n",
       "5    18218718       suhcik        Polecam    5/5   \n",
       "6    17477082  robaczekmax        Polecam    4/5   \n",
       "7    18293902     p4n4c3um        Polecam    4/5   \n",
       "8    18304244        b...n        Polecam    5/5   \n",
       "9    18269592        b...o    Nie polecam    1/5   \n",
       "\n",
       "                                             content  \\\n",
       "0  Długo szukałam, sporo filmików na YT o ujrzała...   \n",
       "1  Fantastyczny sprzęt, bardzo mocny, lekki i odp...   \n",
       "2                        Odkurzacz spełnia wymagania   \n",
       "3                                      Produkt super   \n",
       "4  Mam w domu psa który zrzuca non stop dużo sier...   \n",
       "5  Jak na razie sprawuje się bardzo dobrze. Przed...   \n",
       "6  Jak na razie, spełnia swoją funkcję, jestem za...   \n",
       "7  Daję 4 gdyż pierwsza bateria z odkurzaczem był...   \n",
       "8  Odmienił moje życie :P Jeśli myślisz że masz c...   \n",
       "9  Fabrycznie produkt uszkodzony. Po rozpakowaniu...   \n",
       "\n",
       "                                                pros cons  useful  useless  \\\n",
       "0                                                 []   []       0        0   \n",
       "1  [dużo końcówek, poręczny, przycisk zasilania, ...   []       0        2   \n",
       "2  [dużo końcówek, poręczny, przycisk zasilania, ...   []       1        0   \n",
       "3  [dużo końcówek, lekki, poręczny, przycisk zasi...   []       0        0   \n",
       "4  [dużo końcówek, poręczny, przycisk zasilania, ...   []       2        0   \n",
       "5  [dużo końcówek, lekki, poręczny, przycisk zasi...   []       0        0   \n",
       "6                                                 []   []       0        1   \n",
       "7      [dużo końcówek, poręczny, przycisk zasilania]   []       2        0   \n",
       "8  [brak, dużo końcówek, lekki, poręczny, przycis...   []       0        0   \n",
       "9  [dużo końcówek, poręczny, przycisk zasilania, ...   []       0        1   \n",
       "\n",
       "             post_date        purchase_date  \n",
       "0  2024-03-29 11:14:23  2024-03-17 13:45:25  \n",
       "1  2023-05-17 10:52:54  2023-05-12 09:57:19  \n",
       "2  2024-03-18 08:42:26  2024-03-10 15:49:13  \n",
       "3  2024-03-04 08:34:36  2024-02-17 16:31:32  \n",
       "4  2022-08-26 11:17:23  2022-08-21 20:00:27  \n",
       "5  2023-12-18 07:42:27  2023-12-14 08:10:55  \n",
       "6  2023-05-05 12:46:13  2023-04-23 15:51:18  \n",
       "7  2024-01-11 12:08:55  2023-12-26 20:24:39  \n",
       "8  2024-01-15 18:15:58  2023-12-30 22:59:39  \n",
       "9  2024-01-03 18:28:39  2023-12-30 07:30:46  "
      ]
     },
     "execution_count": 6,
     "metadata": {},
     "output_type": "execute_result"
    }
   ],
   "source": [
    "opinions"
   ]
  },
  {
   "cell_type": "markdown",
   "metadata": {},
   "source": [
    "## Podstawowe statystyki zbioru opinii"
   ]
  },
  {
   "cell_type": "code",
   "execution_count": 7,
   "metadata": {},
   "outputs": [],
   "source": [
    "opinions.rating = opinions.rating.apply(lambda r: r.split(\"/\")[0].replace(\",\",\".\"), ).astype(float)"
   ]
  },
  {
   "cell_type": "code",
   "execution_count": 8,
   "metadata": {},
   "outputs": [],
   "source": [
    "opinions_count = opinions.shape[0]\n",
    "pros_count = opinions.pros.apply(lambda p: 1 if p else 0).sum()\n",
    "cons_count = opinions.cons.apply(lambda c: 1 if c else 0).sum()\n",
    "average_rating = opinions.rating.mean()"
   ]
  }
 ],
 "metadata": {
  "kernelspec": {
   "display_name": ".venv",
   "language": "python",
   "name": "python3"
  },
  "language_info": {
   "codemirror_mode": {
    "name": "ipython",
    "version": 3
   },
   "file_extension": ".py",
   "mimetype": "text/x-python",
   "name": "python",
   "nbconvert_exporter": "python",
   "pygments_lexer": "ipython3",
   "version": "3.12.2"
  }
 },
 "nbformat": 4,
 "nbformat_minor": 2
}
